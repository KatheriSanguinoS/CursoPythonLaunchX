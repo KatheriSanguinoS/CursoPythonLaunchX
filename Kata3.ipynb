{
 "cells": [
  {
   "cell_type": "markdown",
   "metadata": {},
   "source": [
    "EJercicio.- Escribir declaraciones if, else y elif."
   ]
  },
  {
   "cell_type": "markdown",
   "metadata": {},
   "source": [
    "Ejercicio1.-"
   ]
  },
  {
   "cell_type": "code",
   "execution_count": 9,
   "metadata": {},
   "outputs": [
    {
     "name": "stdout",
     "output_type": "stream",
     "text": [
      "Hoy es un gran día para No morir por culpa de un asteroide :D \n"
     ]
    }
   ],
   "source": [
    "asteroide= 49\n",
    "\n",
    "if asteroide :\n",
    "    if asteroide> 25: \n",
    "        print(\"¡Un asteroide viene en camino, todos moriremos!\")\n",
    "    else:\n",
    "        print(\"Hoy es un gran dia para NO morir por un asteroide\")"
   ]
  },
  {
   "cell_type": "markdown",
   "metadata": {},
   "source": [
    "Ejercicio2.-"
   ]
  },
  {
   "cell_type": "code",
   "execution_count": 15,
   "metadata": {},
   "outputs": [
    {
     "name": "stdout",
     "output_type": "stream",
     "text": [
      "Que hermoso día es hoy, muy despejdo de asteroides, casual\n"
     ]
    }
   ],
   "source": [
    "asteroide= 19\n",
    "\n",
    "if asteroide> 20:\n",
    "    print(\"¡OMG, una luz mortal, kaseso?!\")\n",
    "elif asteroide==20:\n",
    "    print(\"¡OMG, una luz mortal, kaseso?!\")\n",
    "else: \n",
    "  print(\"Que hermoso día es hoy, muy despejdo de asteroides, casual\")"
   ]
  },
  {
   "cell_type": "markdown",
   "metadata": {},
   "source": [
    "Ejercicio3.- "
   ]
  },
  {
   "cell_type": "code",
   "execution_count": 16,
   "metadata": {},
   "outputs": [
    {
     "name": "stdout",
     "output_type": "stream",
     "text": [
      "Omg, una luz de asteroide, moriremos\n"
     ]
    }
   ],
   "source": [
    "asteroide_vel= 25\n",
    "asteroide_tam= 40\n",
    "if asteroide_vel > 25 and asteroide_tam >25:\n",
    "    print(\"Alerta, moriremos por un asteroide\")\n",
    "elif asteroide_vel >=20:\n",
    "    print(\"Omg, una luz de asteroide, moriremos\")\n",
    "elif asteroide_tam <25:\n",
    "    print(\"Que cielo tan despejado, libre de asteroides... por hoy\")\n",
    "else: print(\"que cielo tan despejado, libre de asteroides... por hoy\")\n"
   ]
  }
 ],
 "metadata": {
  "interpreter": {
   "hash": "1c90c6640002b1d75395907d11b4cfb98e8881f24ae1c9afa81c5c45b0e57ad6"
  },
  "kernelspec": {
   "display_name": "Python 3.10.2 ('env': venv)",
   "language": "python",
   "name": "python3"
  },
  "language_info": {
   "codemirror_mode": {
    "name": "ipython",
    "version": 3
   },
   "file_extension": ".py",
   "mimetype": "text/x-python",
   "name": "python",
   "nbconvert_exporter": "python",
   "pygments_lexer": "ipython3",
   "version": "3.10.2"
  },
  "orig_nbformat": 4
 },
 "nbformat": 4,
 "nbformat_minor": 2
}
